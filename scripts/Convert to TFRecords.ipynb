{
 "cells": [
  {
   "cell_type": "code",
   "execution_count": 88,
   "metadata": {},
   "outputs": [],
   "source": [
    "from pymongo import MongoClient\n",
    "# from auth import username, password\n",
    "import urllib\n",
    "from pprint import pprint\n",
    "from tqdm import tqdm\n",
    "import tensorflow as tf\n",
    "import multiprocessing\n",
    "from transformers import AutoTokenizer, TFAutoModel\n",
    "import pickle\n",
    "import numpy as np\n",
    "import os\n",
    "import preprocessor as p\n",
    "import collections\n",
    "import random\n",
    "\n",
    "seed = 1111"
   ]
  },
  {
   "cell_type": "code",
   "execution_count": 82,
   "metadata": {},
   "outputs": [],
   "source": [
    "from transformers import (\n",
    "   AutoConfig,\n",
    "   AutoTokenizer,\n",
    "   TFAutoModelForSequenceClassification,\n",
    "   AdamW,\n",
    "   glue_convert_examples_to_features\n",
    ")\n",
    "# Choose model\n",
    "# @markdown >The default model is <i><b>COVID-Twitter-BERT</b></i>. You can however choose <i><b>BERT Base</i></b> or <i><b>BERT Large</i></b> to compare these models to the <i><b>COVID-Twitter-BERT</i></b>. All these three models will be initiated with a random classification layer. If you go directly to the Predict-cell after having compiled the model, you will see that it still runs the predition. However the output will be random. The training steps below will finetune this for the specific task. <br /><br /> \n",
    "model_name = 'digitalepidemiologylab/covid-twitter-bert' #@param [\"digitalepidemiologylab/covid-twitter-bert\", \"bert-large-uncased\", \"bert-base-uncased\"]\n",
    "\n",
    "# Initialise tokenizer\n",
    "tokenizer = AutoTokenizer.from_pretrained(model_name)\n"
   ]
  },
  {
   "cell_type": "code",
   "execution_count": 76,
   "metadata": {},
   "outputs": [],
   "source": [
    "data_dir = '../src/data'\n",
    "standardized_suffix = 'standardized'"
   ]
  },
  {
   "cell_type": "code",
   "execution_count": 77,
   "metadata": {},
   "outputs": [],
   "source": [
    "def create_int_feature(values):\n",
    "  feature = tf.train.Feature(int64_list=tf.train.Int64List(value=list(values)))\n",
    "  return feature\n",
    "\n",
    "def create_float_feature(values):\n",
    "  feature = tf.train.Feature(float_list=tf.train.FloatList(value=list(values)))\n",
    "  return feature"
   ]
  },
  {
   "cell_type": "code",
   "execution_count": 78,
   "metadata": {},
   "outputs": [],
   "source": [
    "def generate_onehot_labels():\n",
    "    conspiracies = set()\n",
    "    \n",
    "    for filename in os.listdir('../src/data'):\n",
    "        if 'standardized' in filename:\n",
    "            conspiracies.add(filename.split('-')[0])\n",
    "    return {consp:i for i, consp in enumerate(conspiracies)}\n",
    "             \n",
    "# generate_onehot_labels()"
   ]
  },
  {
   "cell_type": "code",
   "execution_count": 80,
   "metadata": {},
   "outputs": [],
   "source": [
    "def create_masked_lm_predictions(tokens, masked_lm_prob,\n",
    "                                 max_predictions_per_seq, vocab_words, rng):\n",
    "  \"\"\"Creates the predictions for the masked LM objective.\"\"\"\n",
    "\n",
    "  cand_indexes = []\n",
    "  for (i, token) in enumerate(tokens):\n",
    "    if token == vocab[\"[CLS]\"] or token == vocab[\"[SEP]\"]:\n",
    "      continue\n",
    "    # Whole Word Masking means that if we mask all of the wordpieces\n",
    "    # corresponding to an original word. When a word has been split into\n",
    "    # WordPieces, the first token does not have any marker and any subsequence\n",
    "    # tokens are prefixed with ##. So whenever we see the ## token, we\n",
    "    # append it to the previous set of word indexes.\n",
    "    #\n",
    "    # Note that Whole Word Masking does *not* change the training code\n",
    "    # at all -- we still predict each WordPiece independently, softmaxed\n",
    "    # over the entire vocabulary.\n",
    "    if (FLAGS.do_whole_word_mask and len(cand_indexes) >= 1 and\n",
    "        token.startswith(\"##\")):\n",
    "      cand_indexes[-1].append(i)\n",
    "    else:\n",
    "      cand_indexes.append([i])\n",
    "\n",
    "  rng.shuffle(cand_indexes)\n",
    "\n",
    "  output_tokens = list(tokens)\n",
    "\n",
    "  num_to_predict = min(max_predictions_per_seq,\n",
    "                       max(1, int(round(len(tokens) * masked_lm_prob))))\n",
    "\n",
    "  masked_lms = []\n",
    "  covered_indexes = set()\n",
    "  for index_set in cand_indexes:\n",
    "    if len(masked_lms) >= num_to_predict:\n",
    "      break\n",
    "    # If adding a whole-word mask would exceed the maximum number of\n",
    "    # predictions, then just skip this candidate.\n",
    "    if len(masked_lms) + len(index_set) > num_to_predict:\n",
    "      continue\n",
    "    is_any_index_covered = False\n",
    "    for index in index_set:\n",
    "      if index in covered_indexes:\n",
    "        is_any_index_covered = True\n",
    "        break\n",
    "    if is_any_index_covered:\n",
    "      continue\n",
    "    for index in index_set:\n",
    "      covered_indexes.add(index)\n",
    "\n",
    "      masked_token = None\n",
    "      # 80% of the time, replace with [MASK]\n",
    "      if rng.random() < 0.8:\n",
    "        masked_token = \"[MASK]\"\n",
    "      else:\n",
    "        # 10% of the time, keep original\n",
    "        if rng.random() < 0.5:\n",
    "          masked_token = tokens[index]\n",
    "        # 10% of the time, replace with random word\n",
    "        else:\n",
    "          masked_token = vocab_words[rng.randint(0, len(vocab_words) - 1)]\n",
    "\n",
    "      output_tokens[index] = masked_token\n",
    "\n",
    "      masked_lms.append(MaskedLmInstance(index=index, label=tokens[index]))\n",
    "  assert len(masked_lms) <= num_to_predict\n",
    "  masked_lms = sorted(masked_lms, key=lambda x: x.index)\n",
    "\n",
    "  masked_lm_positions = []\n",
    "  masked_lm_labels = []\n",
    "  for p in masked_lms:\n",
    "    masked_lm_positions.append(p.index)\n",
    "    masked_lm_labels.append(p.label)\n",
    "\n",
    "  return (output_tokens, masked_lm_positions, masked_lm_labels)"
   ]
  },
  {
   "cell_type": "code",
   "execution_count": 96,
   "metadata": {},
   "outputs": [],
   "source": [
    "def convert_instance_to_examples(X, label, tokenizer):\n",
    "    input_ids = X['input_ids']\n",
    "    token_type_ids = X['token_type_ids']\n",
    "    attention_mask = X['attention_mask']\n",
    "\n",
    "    rng = random.Random(seed)\n",
    "    masked_lm_prob = 0.1\n",
    "    vocab = tokenizer.get_vocab()\n",
    "    reverse_vocab = {v:k for k,v in vocab.items()}\n",
    "    \n",
    "    for i in tqdm(range(input_ids.shape[0])):  \n",
    "        \n",
    "        output_tokens, masked_lm_positions, masked_lm_labels = create_masked_lm_predictions(input_ids[i], masked_lm_prob, max_predictions_per_seq, vocab_words, rng)\n",
    "        \n",
    "        features = collections.OrderedDict()\n",
    "        features[\"input_ids\"] = create_int_feature(np.array(input_ids[i]))\n",
    "        features[\"input_mask\"] = create_int_feature(np.array(token_type_ids[i]))\n",
    "        features[\"segment_ids\"] = create_int_feature(np.array(attention_mask[i]))\n",
    "        features[\"masked_lm_positions\"] = create_int_feature(np.array(attention_mask[i]))\n",
    "        features[\"masked_lm_ids\"] = create_float_feature(np.array(attention_mask[i]))\n",
    "        features[\"masked_lm_weights\"] = create_int_feature(np.array(attention_mask[i]))\n",
    "        features[\"next_sentence_labels\"] = create_int_feature(np.array(label))\n",
    "        \n",
    "        \n",
    "        break"
   ]
  },
  {
   "cell_type": "code",
   "execution_count": 97,
   "metadata": {},
   "outputs": [
    {
     "name": "stderr",
     "output_type": "stream",
     "text": [
      "  0%|                                                                                                                                                                                                                                                                                                                                     | 0/10002 [00:00<?, ?it/s]\n"
     ]
    }
   ],
   "source": [
    "labels = generate_onehot_labels()\n",
    "\n",
    "for filename in os.listdir('../src/data'):\n",
    "    if 'standardized' in filename:\n",
    "        with open('../src/data/'+filename, 'rb') as f:\n",
    "            X = pickle.load(f)\n",
    "            y = np.zeros(len(labels.keys()))\n",
    "            y[labels[filename.split('-')[0]]] = 1\n",
    "            y = tf.convert_to_tensor(y, dtype=tf.int64)           \n",
    "            \n",
    "            convert_instance_to_examples(X, y, tokenizer)\n",
    "            \n",
    "            \n",
    "            \n",
    "#             print(y)\n",
    "            \n",
    "            \n",
    "            \n",
    "        break"
   ]
  },
  {
   "cell_type": "code",
   "execution_count": null,
   "metadata": {},
   "outputs": [],
   "source": []
  }
 ],
 "metadata": {
  "kernelspec": {
   "display_name": "Python 3",
   "language": "python",
   "name": "python3"
  },
  "language_info": {
   "codemirror_mode": {
    "name": "ipython",
    "version": 3
   },
   "file_extension": ".py",
   "mimetype": "text/x-python",
   "name": "python",
   "nbconvert_exporter": "python",
   "pygments_lexer": "ipython3",
   "version": "3.7.7"
  }
 },
 "nbformat": 4,
 "nbformat_minor": 4
}
